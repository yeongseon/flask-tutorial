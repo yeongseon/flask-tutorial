{
 "metadata": {
  "name": ""
 },
 "nbformat": 3,
 "nbformat_minor": 0,
 "worksheets": [
  {
   "cells": [
    {
     "cell_type": "raw",
     "metadata": {},
     "source": [
      "http://flask-docs-kr.readthedocs.org/ko/latest/quickstart.html"
     ]
    },
    {
     "cell_type": "heading",
     "level": 2,
     "metadata": {},
     "source": [
      "\ub77c\uc6b0\ud305"
     ]
    },
    {
     "cell_type": "raw",
     "metadata": {},
     "source": [
      "\ud604\ub300 \uc6f9 \uc5b4\ud50c\ub9ac\ucf00\uc774\uc158\uc740 \uc798 \uad6c\uc870\ud654\ub41c URL\ub85c \uad6c\uc131\ub418\uc5b4 \uc788\uc74c.\n",
      "URL\uc740 \uc0ac\ub78c\ub4e4\uc774 \uae30\uc5b5\ud558\uae30 \uc27d\uace0, \uc5b4\ud50c\ub9ac\ucf00\uc774\uc158\uc5d0\uc11c \uc811\uadfc\ud558\uae30 \uc27d\ub2e4.\n",
      "\uc0ac\uc6a9\uc790\uac00 \uc778\ub371\uc2a4 \ud398\uc774\uc9c0\ub97c \uac70\uce58\uc9c0 \uc54a\uace0 \uc6d0\ud558\ub294 \ud398\uc774\uc9c0\ub85c \uc811\uadfc\ud560 \uc218 \uc788\ub2e4\uba74, \uc0ac\uc6a9\uc790\uc758 \uc7ac \uc811\uadfc\uc131\ub3c4 \ub192\uc544\uc9d0\n",
      "\n",
      "route() \ub370\ucf54\ub808\uc774\ud130\ub294 \ud568\uc218\uc640 URL\uc744 \uc5f0\uacb0\uc2dc\ucf1c\uc900\ub2e4.\n",
      "@app.route('/') def index():\n",
      "    return 'Index Page'\n",
      "@app.rotue('/hello') def hello():\n",
      "    return 'Hello World'\n",
      "\n",
      "URL\uc744 \ub3d9\uc801\uc73c\ub85c \uad6c\uc131\ud560 \uc218 \uc788\uace0, \ud568\uc218\uc5d0 \uc5ec\ub7ec \ub8f0\uc744 \ub367\ubd99\uc77c \uc218\ub3c4 \uc788\uc74c"
     ]
    },
    {
     "cell_type": "heading",
     "level": 2,
     "metadata": {},
     "source": [
      "\ubcc0\uc218\uaddc\uce59"
     ]
    },
    {
     "cell_type": "raw",
     "metadata": {},
     "source": [
      "URL \uaddc\uce59 \ub450\uac00\uc9c0\n",
      "@app.route('/projects/')\n",
      "def projects() :\n",
      "    return 'The project page'\n",
      "\n",
      "@app.route('/about')\n",
      "def about\n",
      "    return 'The about page'\n",
      "\n",
      "\uccab\ubc88\uc9f8 \uacbd\uc6b0\ub294 projects\ub4a4\uc5d0 '/' \ud3ec\ud568 : \ud30c\uc77c\uc2dc\uc2a4\ud15c\uc758 \ud3f4\ub354\uc640 \uc720\uc0ac, '/' \uc5c6\uc774 \uc811\uadfc\ud558\uba74 Flask\uac00 \ub4b7 \uc2ac\ub798\uc26c\ub97c \uac00\uc9c4 \uc815\uaddc\ud45c\ud604\uc2dd\uc73c\ub85c \uace0\uccd0\uc90c\n",
      "\ub450\ubc88\uc9f8 \uacbd\uc6b0\ub294 Unixr\uacc4\uc5f4\uc758 \ud30c\uc77c \uacbd\ub85c\uba85 : \ub4b7 \uc2ac\ub798\uc26c\ub97c \ud3ec\ud568\ud574\uc11c URL \uc811\uadfc\uc2dc 404\"\ud398\uc774\uc9c0\ub97c \ucc3e\uc9c0 \ubabb\ud568\" \uc5d0\ub7ec \uc720\ubc1c"
     ]
    },
    {
     "cell_type": "heading",
     "level": 2,
     "metadata": {},
     "source": [
      "URL \uc0dd\uc131"
     ]
    },
    {
     "cell_type": "code",
     "collapsed": false,
     "input": [
      "from flask import Flask, url_for"
     ],
     "language": "python",
     "metadata": {},
     "outputs": [],
     "prompt_number": 12
    },
    {
     "cell_type": "code",
     "collapsed": false,
     "input": [
      "app = Flask(__name__)"
     ],
     "language": "python",
     "metadata": {},
     "outputs": [],
     "prompt_number": 13
    },
    {
     "cell_type": "code",
     "collapsed": false,
     "input": [
      "@app.route('/')\n",
      "def index() : pass"
     ],
     "language": "python",
     "metadata": {},
     "outputs": [],
     "prompt_number": 14
    },
    {
     "cell_type": "code",
     "collapsed": false,
     "input": [
      "@app.route('/login')\n",
      "def login() : pass"
     ],
     "language": "python",
     "metadata": {},
     "outputs": [],
     "prompt_number": 15
    },
    {
     "cell_type": "code",
     "collapsed": false,
     "input": [
      "@app.route('/user/<username>')\n",
      "def profile(username) : pass"
     ],
     "language": "python",
     "metadata": {},
     "outputs": [],
     "prompt_number": 16
    },
    {
     "cell_type": "code",
     "collapsed": false,
     "input": [
      "with app.test_request_context() :\n",
      "    print url_for('index')\n",
      "    print url_for('login')\n",
      "    print url_for('login', next='/')\n",
      "    print url_for('profile', username='John Doe')\n",
      "    "
     ],
     "language": "python",
     "metadata": {},
     "outputs": [
      {
       "output_type": "stream",
       "stream": "stdout",
       "text": [
        "/\n",
        "/login\n",
        "/login?next=%2F\n",
        "/user/John%20Doe\n"
       ]
      }
     ],
     "prompt_number": 17
    },
    {
     "cell_type": "raw",
     "metadata": {},
     "source": [
      "test_request_context() \uc0ac\uc6a9 : \ud50c\ub77c\uc2a4\ud06c\uc5d0\uac8c \ud604\uc7ac \ud30c\uc774\uc36c \uc258\uc5d0\uc11c \ud14c\uc2a4\ud2b8 \ud558\uace0 \uc788\uc74c\uc5d0\ub3c4 \uc9c0\uae08 \uc2e4\uc81c\ub85c \uc694\uccad\uc744 \ucc98\ub9ac\ud558\uace0 \uc788\ub294\uac83\ucc98\ub7fc \uc0ac\uc624\ud56d \uc81c\uacf5"
     ]
    },
    {
     "cell_type": "heading",
     "level": 2,
     "metadata": {},
     "source": [
      "HTTP \uba54\uc18c\ub4dc"
     ]
    },
    {
     "cell_type": "raw",
     "metadata": {},
     "source": [
      "HTTP(\uc6f9 \uc5b4\ud50c\ub9ac\ucf00\uc774\uc158\uc5d0\uc11c \uc0ac\uc6a9\ud558\ub294 \ud504\ub85c\ud1a0\ucf5c)\ub294 URL \uc811\uadfc\uc5d0 \ub300\ud55c \uba87\uac00\uc9c0 \ub2e4\ub978 \ubc29\uc2dd \uc81c\uacf5\n",
      "\uae30\ubcf8\uc801\uc73c\ub85c GET\ubc29\uc2dd \uc81c\uacf5, route() \ub370\ucf54\ub808\uc774\ud130\uc5d0 methods \uc778\uc790\ub97c \uc81c\uacf5\ud558\uba74 \ub2e4\ub978 \ubc29\uc2dd\uc73c\ub85c \ubcc0\uacbd \uac00\ub2a5"
     ]
    },
    {
     "cell_type": "raw",
     "metadata": {},
     "source": [
      "@app.route('/login', methods=['GET', 'POST'])\n",
      "def login() :\n",
      "    if request.method == 'POST':\n",
      "        do_the_login()\n",
      "    else :\n",
      "        show_the_login_form()"
     ]
    },
    {
     "cell_type": "raw",
     "metadata": {},
     "source": [
      "HTTP \uba54\uc18c\ub4dc (\ud074\ub77c\uc774\uc5b8\ud2b8\uac00 \uc11c\ubc84\uc5d0\uac8c \uc694\uccad\ub41c \ud398\uc774\uc9c0\ub97c \ud1b5\ud574\uc11c \ubb34\uc5c7\uc744 \ud558\ub3c4\ub85d \uc6d0\ud558\ub294\uc9c0 \ub9d0\ud574\uc900\ub2e4.)\n",
      "GET :  \ube0c\ub77c\uc6b0\uc800\uac00 \uc5b4\ub5a4 \ud398\uc774\uc9c0\uc5d0 \uc800\uc7a5\ub41c \uc815\ubcf4\ub97c \ub2e8\uc9c0 \uc5bb\uae30 \uc704\ud574 \uc11c\ubc84\uc5d0 \uc694\uccad\ud558\uace0 \uc11c\ubc84\ub294 \uadf8 \uc815\ubcf4\ub97c \ubcf4\ub0b4\uc90c\n",
      "HEAD : \ube0c\ub77c\uc6b0\uc800\uac00 \uc5b4\ub5a4 \ud398\uc774\uc9c0\uc5d0 \uc800\uc7a5\ub41c \ub0b4\uc6a9\uc774 \uc544\ub2c8\ub77c \ud5e4\uc5b4\ub77c \ubd88\ub9ac\ub294 \uc815\ubcf4 \uc694\uccad.\n",
      "POST :  \ube0c\ub77c\uc6b0\uc800\ub294 \uc11c\ubc84\uc5d0\uac8c \uc0c8\ub85c\uc6b4 \uc815\ubcf4\ub97c \"\uc804\uc1a1\"\ud558\ub3c4\ub85d \ud2b9\uc815 URL\uc694\uccad\ud558\uace0 \uadf8\uc815\ubcf4\uac00 \uc624\uc9c1 \ud55c\ubc88 \uc800\uc7a5\ub418\ub294 \uac83\uc744 \ubcf4\uc7a5\n",
      "PUT : POST\uc640 \uc720\uc0ac\ud558\uc9c0\ub9cc \uc11c\ubc84\uac00 \uc624\ub798\ub41c \uac12\ub4e4\uc744 \ud55c\ubc88 \uc774\uc0c1 \ub36e\uc5b4\uc4f0\uba74\uc11c store procedure\ub97c \uc5ec\ub7ec\ubc88 \uc2e4\ud589\ud560 \uc218 \uc788\ub2e4.\n",
      "DELETE : \uc8fc\uc5b4\uc9c4 \uc704\uce58\uc5d0 \uc788\ub294 \uc815\ubcf4 \uc81c\uac70\n",
      "OPTIONS : \ud074\ub77c\uc774\uc5b8\ud2b8\uc5d0\uac8c \uc694\uccad\ud558\ub294 URL\uc774 \uc5b4\ub5a4 \uba54\uc18c\ub4dc\ub97c \uc9c0\uc6d0\ud558\ub294\uc9c0 \uc54c\ub824\uc900\ub2e4."
     ]
    },
    {
     "cell_type": "heading",
     "level": 2,
     "metadata": {},
     "source": [
      "\uc815\uc801\ud30c\uc77c"
     ]
    },
    {
     "cell_type": "raw",
     "metadata": {},
     "source": [
      "\ub3d9\uc801\uc778 \uc6f9 \uc5b4\ud50c\ub9ac\ucf00\uc774\uc158\uc740 \uc815\uc801 \ud30c\uc77c\uc744 \ud544\uc694\ub85c \ud55c\ub2e4. \ubcf4\ud1b5 \uc790\ubc14\uc2a4\ud06c\ub9bd\ud2b8\ub098 CSS\ud30c\uc77c \uc758\ubbf8\ud55c\ub2e4.\n",
      "\uc774\uc0c1\uc801\uc778 \uc6f9\uc11c\ubc84\ub294 \uc815\uc801 \ud30c\uc77c\ub4e4\uc744 \uc11c\ube44\uc2a4\ud558\uc9c0\ub9cc, \uac1c\ubc1c\uc2dc\uc5d0\ub294 \ud50c\ub77c\uc2a4\ud06c\uac00 \uadf8 \uc5ed\ud560\uc744 \ud574\uc900\ub2e4.\n",
      "static\uc774\ub77c\ub294 \ud3f4\ub354\ub97c \uc0dd\uc131\ud55c \ud328\ud0a4\uc9c0 \uc544\ub798\uc5d0 \ub9cc\ub4e4\uac70\ub098 \ubaa8\ub4c8 \uc606\uc5d0 \uc704\uce58\uc2dc\ucf1c\ud55c\ub2e4.\n",
      "\n",
      "\uc815\uc801\ud30c\uc77c\uc5d0 \ub300\ud55c URL\uc744 \uc5bb\uae30 \uc704\ud574\uc11c\ub294 'static' \ub05d\uc810 \uc774\ub984 \uc0ac\uc6a9\n",
      "\n",
      "url_for('static', filename='style.css')\n",
      "\n",
      "\uc774 \ud30c\uc77c(style.css)\ub294 \ud30c\uc77c \uc2dc\uc2a4\ud15c\uc5d0 static/style.css\ub85c \uc800\uc7a5\ub418\uc5b4\uc57c \ud55c\ub2e4."
     ]
    },
    {
     "cell_type": "heading",
     "level": 2,
     "metadata": {},
     "source": [
      "\ud15c\ud50c\ub9bf \ubcf4\uc5ec\uc8fc\uae30"
     ]
    },
    {
     "cell_type": "raw",
     "metadata": {},
     "source": [
      "\ud30c\uc774\uc36c \ucf54\ub4dc\uc5d0\uc11c HTML\uc744 \uc0dd\uc131\ud558\ub294 \uac83\uc740 \uaf64 \ubc88\uac70\ub7ec\uc6c0. (\uc5b4\ud50c\ub9ac\ucf00\uc774\uc158 \ubcf4\uc548\uc744 \uc704\ud574\uc11c \ub3d9\uc801\uc73c\ub85c \ubcc0\ud658\ub418\ub294 \uac12\uc5d0 \ub300\ud574\uc11c \uc774\uc2a4\ucf00\uc774\ud551\uc744 \uc9c1\uc811 \uc791\uc131\ud574\uc57c \ud558\uae30 \ub54c\ubb38\uc5d0..)\n",
      "Flask\uc5d0\uc11c\ub294 <http://jinja.pocoo.org/2/>  \ud15c\ud50c\ub9bf\uc5d4\uc9c4\uc73c\ub85c \uad6c\uc131\ud558\uc5ec \uc790\ub3d9\uc73c\ub85c  HTML \uc774\uc2a4\ucf00\uc774\ud551\ud568\n",
      "\ud15c\ud50c\ub9bf\uc744 \ud654\uba74\uc5d0 \ucd9c\ub825\ud558\uae30 \uc704\ud574\uc11c\ub294  render_template() \uba54\uc18c\ub4dc \uc0ac\uc6a9. \n",
      "\ud30c\uc774\uc36c \ucf54\ub4dc\uc5d0\uc11c\ub294 \ud15c\ud50c\ub9bf\uc758 \uc774\ub984\uacfc \ud15c\ud50c\ub9bf\uc5d0\uc11c \ubcf4\uc5ec\uc904 \ubcc0\uc218\ub97c \ud0a4\uc6cc\ub4dc \uc778\uc790\ub85c \uc804\ub2ec"
     ]
    },
    {
     "cell_type": "raw",
     "metadata": {},
     "source": [
      "from flask import render_template\n",
      "\n",
      "@app.route('/hello/')\n",
      "@app.route('/hello/<name>/')\n",
      "def hello(name=None):\n",
      "    return render_template('hello.html', name=name)"
     ]
    },
    {
     "cell_type": "raw",
     "metadata": {},
     "source": [
      "Flask\ub294 templates \ud3f4\ub354\uc5d0\uc11c \ud15c\ud50c\ub9bf\uc744 \ucc3e\ub294\ub2e4. \n",
      "\ubaa8\ub4c8\ub85c \uc5b4\ud50c\ub9ac\ucf00\uc774\uc158\uc744 \uac1c\ubc1c\uc2dc\uc5d0\ub294 templates \ud3f4\ub354\ub294 \ubaa8\ub4c8 \uc606\uc5d0 \ub450\uace0,\n",
      "\n",
      "/application.py\n",
      "/templates\n",
      "    /hello.html\n",
      "\n",
      "\ud328\ud0a4\uc9c0\ub85c \uac1c\ubc1c\ud588\ub2e4\uba74 \uadf8 \ud328\ud0a4\uc9c0 \uc548\uc5d0 templates \ud3f4\ub354\ub97c \ub454\ub2e4.\n",
      "\n",
      "/application\n",
      "    /__init__.py\n",
      "    /templates\n",
      "        /hello.html"
     ]
    },
    {
     "cell_type": "raw",
     "metadata": {},
     "source": [
      "\ud15c\ud50c\ub9bf \uc608\uc81c\n",
      "\n",
      "<!doctype html>\n",
      "<title>Hello from Flask</title>\n",
      "    {% if name %}\n",
      "<h1>hello {{ name }}!</h1>\n",
      "    {% else %}\n",
      "<h1> Hello World!</h1>\n",
      "    {% endif %}\n",
      "\n",
      "\ud15c\ud50c\ub9bf \uc548\uc5d0\uc11c request, :class:~flask.session \uac1d\uccb4\uc5d0 \uc811\uadfc\ud560 \uc218 \uc788\uc74c\n",
      "\n",
      "\ud15c\ud50c\ub9bf\ub0b4\uc5d0\uc11c\ub294 \uc0c1\uc18d\uc774 \uc720\uc6a9\ud558\uac8c \uc0ac\uc6a9.\n",
      "\n",
      "\uc790\ub3d9 \uc774\uc2a4\ucf00\uc774\ud551\uc740 \ucf1c\uc838\uc788\uace0, name\uc774\ub780 \ubcc0\uc218\uac00 HTML\uc5d0 \ud3ec\ud568\ub418\uc5b4 \uc788\ub2e4\uba74, \uadf8 \ubcc0\uc218\uac12\uc740 \uc790\ub3d9\uc73c\ub85c \uc774\uc2a4\ucf00\uc774\ud551\ub41c\ub2e4. (-> \ud15c\ud50c\ub9bf\uc5d0 \ub300\ud55c \uc790\uc138\ud55c \ub0b4\uc6a9\uc740 Jinja2 \ubb38\uc11c \ucc38\uace0)"
     ]
    },
    {
     "cell_type": "heading",
     "level": 2,
     "metadata": {},
     "source": [
      "\uc694\uccad \ub370\uc774\ud130 \uc811\uadfc\ud558\uae30"
     ]
    },
    {
     "cell_type": "raw",
     "metadata": {},
     "source": [
      "\uc6f9 \uc5b4\ud50c\ub9ac\ucf00\uc774\uc158\uc5d0 \uc788\uc5b4\uc11c \ud074\ub77c\uc774\uc5b8\ud2b8\uc5d0\uc11c \uc11c\ubc84\ub85c \ubcf4\ub0b4\ub294 \ub370\uc774\ud130\ub97c \ucc98\ub9ac\ud558\ub294 \uac83\uc740 \uc911\uc694\ud55c \uc77c.\n",
      "Flask\uc5d0\uc11c \uc815\ubcf4\ub294 \uae00\ub85c\ubc8c\ud55c request\uac1d\uccb4\uc5d0 \uc758\ud574 \uc81c\uacf5\ub41c\ub2e4.\n",
      "\ud30c\uc774\uc36c\uc5d0\uc11c\ub294 \uc5b4\ub5bb\uac8c \uac1d\uccb4\uac00 \uae00\ub85c\ubc8c\ud558\uace0 \uc4f0\ub808\ub4dc \uc548\uc804\ud558\uac8c \ucc98\ub9ac\ud558\ub294\uac00? -> \ucee8\ud14d\uc2a4\ud2b8 \ub85c\uceec"
     ]
    },
    {
     "cell_type": "heading",
     "level": 3,
     "metadata": {},
     "source": [
      "\ucee8\ud14d\uc2a4\ud2b8 \ub85c\uceec"
     ]
    },
    {
     "cell_type": "raw",
     "metadata": {},
     "source": [
      "Flask\uc5d0\uc11c \uc5b4\ub5a4 \uac1d\uccb4\ub4e4\uc740 \ubcf4\ud1b5 \uac1d\uccb4\ub4e4\uc774 \uc544\ub2cc \uc804\uc5ed \uac1d\uccb4. \n",
      "\uc774 \uac1d\uccb4\ub4e4\uc740 \uc2e4\uc81c\ub85c \uc5b4\ub5a4 \ud2b9\uc815\ud55c \ubb38\ub9e5\uc5d0\uc11c \uc9c0\uc5ed\uc801\uc778 \uac1d\uccb4\ub4e4\uc5d0 \ub300\ud55c \ub300\ub9ac\uc790\ub4e4\uc774\ub2e4.\n",
      "\n",
      "\uc4f0\ub808\ub4dc\ub97c \ub2e4\ub8e8\ub294 \ubb38\ub9e5 ?\n",
      "\uc6f9\uc5d0\uc11c \uc694\uccad\uc774 \ud558\ub098 \ub4e4\uc5b4\uc624\uba74, \uc6f9\uc11c\ubc84\ub294 \uc0c8\ub85c\uc6b4 \uc4f0\ub808\ub4dc \ud558\ub098 \uc0dd\uc131. \n",
      "\ud50c\ub77c\uc2a4\ud06c\uac00 \ub0b4\ubd80\uc801\uc73c\ub85c \uc694\uccad\uc744 \ucc98\ub9ac\ud560\ub54c, \ud50c\ub77c\uc2a4\ud06c\ub294 \ud604\uc7ac \ucc98\ub9ac\ub418\ub294 \uc4f0\ub808\ub4dc\ub97c \ud65c\uc131\ud654\ub41c \ubb38\ub9e5\uc774\ub77c\uace0 \uc0b0\uc8fc\ud558\uace0, \ud604\uc7ac \uc2e4\ud589\ub418\ub294 \uc5b4\ud50c\ub9ac\ucf00\uc774\uc158\uacfc WSGI\ud658\uacbd\uc744 \uadf8 \ubb38\ub9e5(\uc4f0\ub808\ub4dc)\uc5d0 \uc5f0\uacb0\ud55c\ub2e4. \uc774\ub807\uac8c \ucc98\ub9ac\ud558\ub294 \uac83\uc774 \ubb38\ub9e5\uc744 \uc9c0\ub2a5\uc801\uc73c\ub85c \ucc98\ub9ac\ud558\ub294 \ubc29\uc2dd\uc774\uace0, \uc774\ub807\uac8c\ud558\uc5ec \ud55c \uc5b4\ud50c\ub9ac\ucf00\uc774\uc158\uc774 \ub04a\uc5b4\uc9d0 \uc5c6\uc774 \ub2e4\ub978 \uc5b4\ud50c\ub9ac\ucf00\uc774\uc158 \ud638\ucd9c\ud560 \uc218 \uc788\ub2e4.\n",
      "\n",
      "\uae30\ubcf8\uc801\uc73c\ub85c \uc720\ub2db \ud14c\uc2a4\ud2b8 (Unit Test)\ub97c \ud558\uc9c0 \uc54a\ub294\ub2e4\uba74 \uc774\uac83\uc740 \ubb34\uc2dc \ud560 \uc218 \uc788\ub2e4. \uc694\uccad \uac1d\uccb4\uc5d0 \uc758\uc874\ud558\ub294 \ucf54\ub4dc\uac00 \uac11\uc790\uae30 \uae68\uc9c0\ub294 \uac83\uc744 \uc54c\uac8c \ub420 \uac83\uc778\ub370, \uc65c\ub0d0\ud558\uba74 \uc694\uccad \uac1d\uccb4\uac00 \uc874\uc7ac\ud558\uc9c0 \uc54a\uae30 \ub54c\ubb38. \ud574\uacb0\ucc45\uc740 \uc694\uccad \uac1d\uccb4\ub97c \uc0dd\uc131\ud574\uc11c \uadf8 \uac1d\uccb4\ub97c \ubb38\ub9e5\uc5d0 \uc5f0\uacb0\ud558\ub294 \uac83\uc774\ub2e4. \uc720\ub2db \ud14c\uc2a4\ud2b8\uc5d0 \uac00\uc7a5 \uc26c\uc6b4 \ud574\uacb0\ucc45\uc740 test_request_context() \ubb38\ub9e5 \uad00\ub9ac\uc790\ub97c \uc0ac\uc6a9\ud558\ub294 \uac83. with\uc808\uacfc \ud568\uaed8 \uc0ac\uc6a9\ud574\uc11c test_request_context() \ubb38\ub9e5 \uad00\ub9ac\uc790\ub294 \ud14c\uc2a4\ud2b8 \uc694\uccad\uc744 \uc5f0\uacb0\ud560 \uac83\uc774\uace0, \uadf8 \uac1d\uccb4\uc640 \uc0c1\ud638 \uc791\uc6a9\ud560 \uc218 \uc788\ub2e4.\n",
      "\n",
      "from flask import request\n",
      "\n",
      "with app.test_request_context('/hello', method='POST'):\n",
      "    # now you can do something with the request until the\n",
      "    # end of the with block, such as basic assertions:\n",
      "    assert request.path == '/hello'\n",
      "    assert reqeust.method == 'POST'\n",
      "\n",
      "\ub2e4\ub978 \ubc29\ubc95\uc740 WSGI \ud658\uacbd \ubcc0\uc218\ub97c request_context() \uba54\uc18c\ub4dc\uc5d0 \uc778\uc790\ub85c \ub118\uae30\ub294 \uac83\uc774\ub2e4.\n",
      "\n",
      "from flask timport request\n",
      "\n",
      "with app.request_context(environ):\n",
      "    assert request.method == 'POST'"
     ]
    },
    {
     "cell_type": "heading",
     "level": 3,
     "metadata": {},
     "source": [
      "\uc694\uccad \uac1d\uccb4"
     ]
    },
    {
     "cell_type": "raw",
     "metadata": {},
     "source": [
      "\uc694\uccad(request) \uac1d\uccb4\ub294 API(Application Programming Interface)\uc7a5\uc5d0\uc11c \uc124\uba85.\n",
      "\n",
      "Flask \ubaa8\ub4c8\uc5d0\uc11c \uc694\uccad \uac1c\uccb4\ub97c  import\ud574\uc57c\ud568.\n",
      "from flask import request\n",
      "\n",
      "\ud604\uc7ac \uc694\uccad \uba54\uc18c\ub4dc\ub294 method \uc18d\uc131\uc73c\ub85c \uc0ac\uc6a9\ud560 \uc218 \uc788\ub2e4. \ud3fc \ub370\uc774\ud130 (HTTP POST \ub098 PUT \uc694\uccad\uc73c\ub85c \uc804\ub2ec\ub41c \ub370\uc774\ud130)\uc5d0 \uc811\uadfc\ud558\ub824\uba74, form \uc18d\uc131\uc744 \uc0ac\uc6a9\ud560 \uc218 \uc788\ub2e4.\n",
      "\n",
      "@app.route('/login', methods=['POST', 'GET'])\n",
      "def login():\n",
      "    error = None\n",
      "    if request.method == 'POST':\n",
      "        if valid_login(request.form['username'], request.form['password']):\n",
      "            return log_the_user_in(request.form['username'])\n",
      "        else:\n",
      "            error = \"Invalid username/password'\n",
      "    return render_template('login.html', error=error)\n",
      "\n",
      "\uc704\uc5d0 \ud3fc\uc5d0 \uc811\uadfc\ud55c \ud0a4(username\uc774\ub098 password)\uac00 \uc874\uc7ac\ud558\uc9c0 \uc54a\uc73c\uba74 KeyError \ubc1c\uc0dd, \uc608\uc678\ucc98\ub9ac \ud558\uc9c0 \uc54a\ub294\ub2e4\uba74 HTTP400 \uc798\ubabb\ub41c \uc694\uccad(Bad Request)\uc5d0 \ub300\ud55c \uc624\ub958 \ud398\uc774\uc9c0 \ubcf4\uc5ec\uc90c\n",
      "\n",
      "URL\ub85c \ub118\uaca8\uc9c4 \ud30c\ub77c\ubbf8\ud130 (?key=value \uc18c\uc704 \ub9d0\ud558\ub294 \uc9c8\uc758 \ubb38\uc790\uc5f4)\uc5d0 \uc811\uadfc\ud558\ub824\uba74, \uc5ec\ub7ec\ubd84\uc740 args \uc18d\uc131\uc744 \uc0ac\uc6a9 \ud560 \uc218 \uc788\uc74c\n",
      "searchword = request.args.get('key', '')\n",
      "\n",
      "\uc6b0\ub9ac\ub294 args\uc18d\uc131\uc758 get\uc744 \uc0ac\uc6a9\ud558\uac70\ub098 KeyError \uc608\uc678\ub97c \ucc98\ub9ac\ud558\uc5ec URL \ud30c\ub77c\ubbf8\ud130\uc5d0 \uc811\uadfc\ud560 \uac83\uc744 \ucd94\ucc9c\ud55c\ub2e4. \uc65c\ub0d0\ud558\uba74 \uc0ac\uc6a9\uc790\uac00 URL\uc744 \ubcc0\uacbd\ud560 \uc218 \uc788\uc73c\uba70 \uc0ac\uc6a9\uc790\uc5d0\uac8c \uce5c\uadfc\ud558\uc9c0 \uc54a\uc740 400\uc798\ubabb\ub41c \uc694\uccad \ud398\uc774\uc9c0\ub97c \ubcf4\uc5ec\uc8fc\uae30 \ub54c\ubb38"
     ]
    },
    {
     "cell_type": "heading",
     "level": 3,
     "metadata": {},
     "source": [
      "\ud30c\uc77c \uc5c5\ub85c\ub4dc"
     ]
    },
    {
     "cell_type": "raw",
     "metadata": {},
     "source": [
      "Flask\ub97c \uc0ac\uc6a9\ud558\uc5ec \uc27d\uac8c \uc5c5\ub85c\ub4dc\ub41c \ud30c\uc77c\uc744 \ub2e4\ub8f0 \uc218 \uc788\uc74c. \n",
      "HTML form\uc5d0 enctype=\"multipart/form-data\"\uac00 \uc124\uc815\ud574\uc57c \ud568.\n",
      "\n",
      "\uc5c5\ub85c\ub4dc\ub41c \ud30c\uc77c\ub4e4\uc740 \uba54\ubaa8\ub9ac\ub098 \ud30c\uc77c\uc2dc\uc2a4\ud15c\uc758 \uc784\uc2dc\uc7a5\uc18c\uc5d0 \uc800\uc7a5\ub41c\ub2e4. file\uac1d\uccb4\uc758 file\uc18d\uc131\uc744 \ucc3e\uc544 \uadf8 \ud30c\uc77c\ub4e4\uc5d0 \uc811\uadfc\ud560 \uc218 \uc788\ub2e4. \uc5c5\ub85c\ub4dc\ub41c \uac01 \ud30c\uc77c\ub4e4\uc740 directory\uc548\uc5d0 \uc800\uc7a5\ub418\uc5b4 \uc788\ub2e4. \uadf8\uac83\uc740 \ub9c8\uce58 \ud30c\uc774\uc36c file \uac1d\uccb4\ucc98\ub7fc \ud589\ub3d9.\n",
      "\n",
      "from flask import request\n",
      "\n",
      "@app.route('/upload', methods=['GET', 'POST'])\n",
      "def upload_file():\n",
      "    if request.method == 'POST':\uc131\uc131\n",
      "        f = request.files['the_file']\n",
      "        f.save('/var/www/uploads/uploaded_file.txt')\n",
      "\n",
      "\uc5b4\ud50c\ub9ac\ucf00\uc774\uc158\uc5d0 \ud30c\uc77c\uc774 \uc5c5\ub85c\ub4dc\ub418\uae30 \uc804 \ud074\ub77c\uc774\uc5b8\ud2b8\uc5d0\uc11c\uc758 \ud30c\uc77c\uba85\uc744 \uc54c\uace0 \uc2f6\ub2e4\uba74, filename \uc18d\uc131\uc5d0 \uc811\uadfc\ud560 \uc218 \uc788\ub2e4. \uadf8\ub7ec\ub098 \uc774 \uac12\uc740 \uc704\uc870\ub420 \uc218 \uc788\uc73c\uba70 \uacb0\ucf54 \uc2e0\ub8b0\ud560 \uc218 \uc5c6\ub294 \uac12. \ub9cc\uc57d \uc11c\ubc84\uc5d0 \uc800\uc7a5\ub418\ub294 \ud30c\uc77c\uba85\uc744 \ud074\ub77c\uc774\uc5b8\ud2b8\uc5d0\uc11c\uc758 \ud30c\uc77c\uba85\uc744 \uadf8\ub300\ub85c \uc0ac\uc6a9\ud558\uae30\ub97c \uc6d0\ud55c\ub2e4\uba74, Werkzeug\uc5d0\uc11c \uc81c\uacf5\ud558\ub294 secure_filename() \ud568\uc218\uc5d0 \uadf8 \ud30c\uc77c\uba85\uc744 \uc804\ub2ec\ud574\uc57c \ud568.\n",
      "\n",
      "from flask import request\n",
      "from werkerg import secure_filename\n",
      "\n",
      "@app.route('/upload', methods=['GET', 'POST'])\n",
      "def upload_file():\n",
      "    if request.method == 'POST':\n",
      "        f = request.files['this_file']\n",
      "        f.save('/var/www/uploads/' + secure_filename(f.filename))"
     ]
    },
    {
     "cell_type": "heading",
     "level": 3,
     "metadata": {},
     "source": [
      "\ucfe0\ud0a4"
     ]
    },
    {
     "cell_type": "raw",
     "metadata": {},
     "source": [
      "\ucfe0\ud0a4\uc5d0 \uc811\uadfc\ud558\uae30 \uc704\ud574\uc11c\ub294 cookes \uc18d\uc131\uc744 \uc0ac\uc6a9\ud560 \uc218 \uc788\ub2e4. \ucfe0\uae30\ub97c \uc800\uc7a5\ud558\uae30 \uc704\ud574\uc11c\ub294 response \uac1d\uccb4\uc758 set_cookie \uba54\uc18c\ub4dc\ub97c \uc0ac\uc6a9\ud560 \uc218 \uc788\ub2e4. request \uac1d\uccb4\uc758 cookies \uc18d\uc131\uc740 \ud074\ub77c\uc774\uc5b8\ud2b8\uac00 \uc804\uc1a1\ud558\ub294 \ubaa8\ub4e0 \ucfe0\ud0a4\ub97c \uac00\uc9c0\uace0 \uc788\ub294 directory\uc774\ub2e4. \n",
      "\n",
      "\ucfe0\ud0a4\ub97c \uc77d\uc744 \ub54c :\n",
      "from flask import request\n",
      "\n",
      "@app.route('/')\n",
      "def index() :\n",
      "    username = request.cookies.get('username')\n",
      "\n",
      "\ucfe0\ud0a4\ub97c \uc800\uc7a5\ud560 \ub54c:\n",
      "from flask import make_response\n",
      "\n",
      "@app.route('/')\n",
      "def index() :\n",
      "    resp = make_response(render_template(...))\n",
      "    resp.set_cookie('username', 'the username')\n",
      "    return resp\n",
      "\n",
      "\ucfe0\ud0a4\ub294 response \uac1d\uccb4\uc5d0 \uc800\uc7a5\ub428. \ubcf4\ud1b5 \ubdf0 \ud568\uc218\ub85c\ubd80\ud130 \ub2e8\uc9c0 \ubb38\uc790\uc5f4\uc744 \ubc18\ud658\ud558\uae30 \ub54c\ubb38\uc5d0, Flask\ub294 \uadf8 \ubb38\uc790\uc5f4\ub4e4\uc744 \uc5ec\ub7ec\ubd84\uc744 \uc704\ud574 response \uac1d\uccb4\ub85c \ubcc0\ud658\ud560 \uac83\uc774\ub2e4. \uba85\uc2dc\uc801\uc73c\ub85c \ubcc0\ud658\ud558\uae30\ub97c \uc6d0\ud55c\ub2e4\uba74 make_response() \ud560\uc218\ub97c \uc0ac\uc6a9\ud558\uc5ec \uac12\uc744 \ubcc0\uacbd\ud560 \uc218 \uc788\uc74c."
     ]
    },
    {
     "cell_type": "code",
     "collapsed": false,
     "input": [],
     "language": "python",
     "metadata": {},
     "outputs": []
    }
   ],
   "metadata": {}
  }
 ]
}